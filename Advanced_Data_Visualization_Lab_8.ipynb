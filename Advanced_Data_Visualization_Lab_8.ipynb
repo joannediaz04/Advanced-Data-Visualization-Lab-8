{
  "nbformat": 4,
  "nbformat_minor": 0,
  "metadata": {
    "colab": {
      "provenance": [],
      "authorship_tag": "ABX9TyNlYywQ9F0uPmVyRu/VrwQ+",
      "include_colab_link": true
    },
    "kernelspec": {
      "name": "python3",
      "display_name": "Python 3"
    },
    "language_info": {
      "name": "python"
    }
  },
  "cells": [
    {
      "cell_type": "markdown",
      "metadata": {
        "id": "view-in-github",
        "colab_type": "text"
      },
      "source": [
        "<a href=\"https://colab.research.google.com/github/joannediaz04/Advanced-Data-Visualization-Lab-8/blob/main/Advanced_Data_Visualization_Lab_8.ipynb\" target=\"_parent\"><img src=\"https://colab.research.google.com/assets/colab-badge.svg\" alt=\"Open In Colab\"/></a>"
      ]
    },
    {
      "cell_type": "code",
      "execution_count": 4,
      "metadata": {
        "colab": {
          "base_uri": "https://localhost:8080/"
        },
        "id": "lrKJiZKfyNop",
        "outputId": "7c54c709-26ec-4085-afee-676a5a2bc694"
      },
      "outputs": [
        {
          "output_type": "stream",
          "name": "stdout",
          "text": [
            "[3, True, 'Michael', 2.0]\n"
          ]
        }
      ],
      "source": [
        "heterogenousElements = [3, True, 'Michael', 2.0]\n",
        "print(heterogenousElements)"
      ]
    },
    {
      "cell_type": "code",
      "source": [
        "heterogenousElements[0]"
      ],
      "metadata": {
        "colab": {
          "base_uri": "https://localhost:8080/"
        },
        "id": "oUy0miwB3Hqr",
        "outputId": "9d178799-de17-42d7-ba4b-bc0e7ed7e054"
      },
      "execution_count": 6,
      "outputs": [
        {
          "output_type": "execute_result",
          "data": {
            "text/plain": [
              "3"
            ]
          },
          "metadata": {},
          "execution_count": 6
        }
      ]
    },
    {
      "cell_type": "code",
      "source": [
        "heterogenousElements[-2]"
      ],
      "metadata": {
        "id": "Dgs3bp4e45pD",
        "outputId": "723ac8bd-0c3e-4d70-e508-75f829e64aee",
        "colab": {
          "base_uri": "https://localhost:8080/",
          "height": 35
        }
      },
      "execution_count": 7,
      "outputs": [
        {
          "output_type": "execute_result",
          "data": {
            "text/plain": [
              "'Michael'"
            ],
            "application/vnd.google.colaboratory.intrinsic+json": {
              "type": "string"
            }
          },
          "metadata": {},
          "execution_count": 7
        }
      ]
    },
    {
      "cell_type": "code",
      "source": [
        "print(heterogenousElements[3])"
      ],
      "metadata": {
        "id": "B79W50HqAe1W",
        "outputId": "eb829f9d-1837-497c-a42f-2e99df68f3e6",
        "colab": {
          "base_uri": "https://localhost:8080/"
        }
      },
      "execution_count": 8,
      "outputs": [
        {
          "output_type": "stream",
          "name": "stdout",
          "text": [
            "2.0\n"
          ]
        }
      ]
    },
    {
      "cell_type": "code",
      "source": [
        "heterogenousElements[:2]"
      ],
      "metadata": {
        "id": "arPQSX4OAo2c",
        "outputId": "aad15cfa-4314-4b09-ca45-2584dc10d3f7",
        "colab": {
          "base_uri": "https://localhost:8080/"
        }
      },
      "execution_count": 9,
      "outputs": [
        {
          "output_type": "execute_result",
          "data": {
            "text/plain": [
              "[3, True]"
            ]
          },
          "metadata": {},
          "execution_count": 9
        }
      ]
    },
    {
      "cell_type": "code",
      "source": [
        "heterogenousElements[0:3]"
      ],
      "metadata": {
        "id": "rQBIAuX0Azk8",
        "outputId": "d3af7d06-5759-479f-83db-9e3c845bca47",
        "colab": {
          "base_uri": "https://localhost:8080/"
        }
      },
      "execution_count": 10,
      "outputs": [
        {
          "output_type": "execute_result",
          "data": {
            "text/plain": [
              "[3, True, 'Michael']"
            ]
          },
          "metadata": {},
          "execution_count": 10
        }
      ]
    },
    {
      "cell_type": "code",
      "source": [],
      "metadata": {
        "id": "SHG4CFE5A5aY"
      },
      "execution_count": null,
      "outputs": []
    }
  ]
}